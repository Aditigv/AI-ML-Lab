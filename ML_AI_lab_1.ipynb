{
  "nbformat": 4,
  "nbformat_minor": 0,
  "metadata": {
    "colab": {
      "name": "ML/AI lab 1.ipynb",
      "provenance": [],
      "authorship_tag": "ABX9TyMAM+pUZqH66BcItGWkirvE",
      "include_colab_link": true
    },
    "kernelspec": {
      "name": "python3",
      "display_name": "Python 3"
    },
    "language_info": {
      "name": "python"
    }
  },
  "cells": [
    {
      "cell_type": "markdown",
      "metadata": {
        "id": "view-in-github",
        "colab_type": "text"
      },
      "source": [
        "<a href=\"https://colab.research.google.com/github/Aditigv/AI-ML-Lab/blob/main/ML_AI_lab_1.ipynb\" target=\"_parent\"><img src=\"https://colab.research.google.com/assets/colab-badge.svg\" alt=\"Open In Colab\"/></a>"
      ]
    },
    {
      "cell_type": "code",
      "execution_count": 10,
      "metadata": {
        "colab": {
          "base_uri": "https://localhost:8080/"
        },
        "id": "y_vG_Ai4uKtO",
        "outputId": "19df9f93-da4b-42d9-d7e1-fdd98b826e7e"
      },
      "outputs": [
        {
          "output_type": "stream",
          "name": "stdout",
          "text": [
            "Array dimension = 1\n",
            "Dimension of array 'a'= 2\n",
            "Matrix shape= (3, 3)\n",
            "Total elem in arrary= 9\n",
            "byte size of each element in array=  8\n",
            "Element datatype= float64\n"
          ]
        },
        {
          "output_type": "execute_result",
          "data": {
            "text/plain": [
              "array([[[0, 0, 0, 0, 0],\n",
              "        [1, 1, 1, 1, 1],\n",
              "        [2, 2, 2, 2, 2]],\n",
              "\n",
              "       [[0, 1, 2, 3, 4],\n",
              "        [0, 1, 2, 3, 4],\n",
              "        [0, 1, 2, 3, 4]]])"
            ]
          },
          "metadata": {},
          "execution_count": 10
        }
      ],
      "source": [
        "import numpy as np\n",
        "list1=[1.0,2.0,3.0,4.0,5.0]\n",
        "npy_array=np.array(list1, dtype=np.float64)\n",
        "#convert list to array(or something like matrix)\n",
        "print(\"Array dimension =\",npy_array.ndim) # get dimension of array\n",
        "a=np.array([[1,2,3],[4,5,6],[7,8,9]], dtype=np.float64)\n",
        "# np.array - like creating matrix\n",
        "print(\"Dimension of array 'a'=\",a.ndim)\n",
        "print(\"Matrix shape=\",a.shape)\n",
        "print(\"Total elem in arrary=\",a.size) # total elem in an array\n",
        "print(\"byte size of each element in array= \",a.itemsize) # each elem's size(in bytes)\n",
        "print(\"Element datatype=\",a.dtype.name) # get elem data type name\n",
        "type(a) # <class 'ndarray'> ndim array\n",
        "np.indices((3,5)) # get index matrix for each elem in 3x5 matrix"
      ]
    }
  ]
}