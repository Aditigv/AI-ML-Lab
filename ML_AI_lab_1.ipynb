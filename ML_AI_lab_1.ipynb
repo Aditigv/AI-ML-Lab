{
  "nbformat": 4,
  "nbformat_minor": 0,
  "metadata": {
    "colab": {
      "name": "ML/AI lab 1.ipynb",
      "provenance": [],
      "authorship_tag": "ABX9TyN7DXYsApNKs8pbMBtBqBwV",
      "include_colab_link": true
    },
    "kernelspec": {
      "name": "python3",
      "display_name": "Python 3"
    },
    "language_info": {
      "name": "python"
    }
  },
  "cells": [
    {
      "cell_type": "markdown",
      "metadata": {
        "id": "view-in-github",
        "colab_type": "text"
      },
      "source": [
        "<a href=\"https://colab.research.google.com/github/Aditigv/AI-ML-Lab/blob/main/ML_AI_lab_1.ipynb\" target=\"_parent\"><img src=\"https://colab.research.google.com/assets/colab-badge.svg\" alt=\"Open In Colab\"/></a>"
      ]
    },
    {
      "cell_type": "code",
      "execution_count": 10,
      "metadata": {
        "colab": {
          "base_uri": "https://localhost:8080/"
        },
        "id": "y_vG_Ai4uKtO",
        "outputId": "19df9f93-da4b-42d9-d7e1-fdd98b826e7e"
      },
      "outputs": [
        {
          "output_type": "stream",
          "name": "stdout",
          "text": [
            "Array dimension = 1\n",
            "Dimension of array 'a'= 2\n",
            "Matrix shape= (3, 3)\n",
            "Total elem in arrary= 9\n",
            "byte size of each element in array=  8\n",
            "Element datatype= float64\n"
          ]
        },
        {
          "output_type": "execute_result",
          "data": {
            "text/plain": [
              "array([[[0, 0, 0, 0, 0],\n",
              "        [1, 1, 1, 1, 1],\n",
              "        [2, 2, 2, 2, 2]],\n",
              "\n",
              "       [[0, 1, 2, 3, 4],\n",
              "        [0, 1, 2, 3, 4],\n",
              "        [0, 1, 2, 3, 4]]])"
            ]
          },
          "metadata": {},
          "execution_count": 10
        }
      ],
      "source": [
        "import numpy as np\n",
        "list1=[1.0,2.0,3.0,4.0,5.0]\n",
        "npy_array=np.array(list1, dtype=np.float64)\n",
        "#convert list to array(or something like matrix)\n",
        "print(\"Array dimension =\",npy_array.ndim) # get dimension of array\n",
        "a=np.array([[1,2,3],[4,5,6],[7,8,9]], dtype=np.float64)\n",
        "# np.array - like creating matrix\n",
        "print(\"Dimension of array 'a'=\",a.ndim)\n",
        "print(\"Matrix shape=\",a.shape)\n",
        "print(\"Total elem in arrary=\",a.size) # total elem in an array\n",
        "print(\"byte size of each element in array= \",a.itemsize) # each elem's size(in bytes)\n",
        "print(\"Element datatype=\",a.dtype.name) # get elem data type name\n",
        "type(a) # <class 'ndarray'> ndim array\n",
        "np.indices((3,5)) # get index matrix for each elem in 3x5 matrix"
      ]
    },
    {
      "cell_type": "code",
      "source": [
        "import numpy as np \n",
        " \n",
        "print(\"eye matrix=\",np.eye(4))  # get eye matrix  \n",
        "print(\"identity matrix=\",np.identity(3))  # like eye function \n",
        " \n",
        "z = np.zeros((3,4), dtype=int) \n",
        "print(\"null matrix=\", z)\n",
        "z = np.ones((3,4), dtype=np.float64) \n",
        "print(\"unit matrix=\",z)\n",
        " \n",
        "z=np.random.random(())\n",
        "print(z)\n",
        "z=np.random.uniform(-3, 5, (5,6))  \n",
        "print(z)\n",
        "# get 5x6 matrix with random # from -3 to 5 for each elem "
      ],
      "metadata": {
        "colab": {
          "base_uri": "https://localhost:8080/"
        },
        "id": "j9koGXT_yVJU",
        "outputId": "0b018321-491c-4419-9ccb-48dc52b4dd85"
      },
      "execution_count": 16,
      "outputs": [
        {
          "output_type": "stream",
          "name": "stdout",
          "text": [
            "eye matrix= [[1. 0. 0. 0.]\n",
            " [0. 1. 0. 0.]\n",
            " [0. 0. 1. 0.]\n",
            " [0. 0. 0. 1.]]\n",
            "identity matrix= [[1. 0. 0.]\n",
            " [0. 1. 0.]\n",
            " [0. 0. 1.]]\n",
            "null matrix= [[0 0 0 0]\n",
            " [0 0 0 0]\n",
            " [0 0 0 0]]\n",
            "unit matrix= [[1. 1. 1. 1.]\n",
            " [1. 1. 1. 1.]\n",
            " [1. 1. 1. 1.]]\n",
            "0.6247183452948623\n",
            "[[ 2.96642625  2.04979361 -2.36328601  1.07488725 -1.84258687  2.28415901]\n",
            " [ 2.9075253   0.47296618  4.98679969  2.97515398 -1.15143877  1.21888202]\n",
            " [-1.40838389  1.24198031 -2.66184688  1.6736604   4.88014134  2.86269965]\n",
            " [ 0.81080891 -0.99865209 -0.68341959  1.70966174 -2.03687135 -1.22936232]\n",
            " [ 3.83550418  0.43547374  0.31913879  2.20183582  0.97304055 -1.92076626]]\n"
          ]
        }
      ]
    }
  ]
}