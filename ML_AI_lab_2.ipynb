{
  "nbformat": 4,
  "nbformat_minor": 0,
  "metadata": {
    "colab": {
      "name": "ML/AI lab 2.ipynb",
      "provenance": [],
      "authorship_tag": "ABX9TyOOu6z5/J33C22blhSC9xZL",
      "include_colab_link": true
    },
    "kernelspec": {
      "name": "python3",
      "display_name": "Python 3"
    },
    "language_info": {
      "name": "python"
    }
  },
  "cells": [
    {
      "cell_type": "markdown",
      "metadata": {
        "id": "view-in-github",
        "colab_type": "text"
      },
      "source": [
        "<a href=\"https://colab.research.google.com/github/Aditigv/AI-ML-Lab/blob/main/ML_AI_lab_2.ipynb\" target=\"_parent\"><img src=\"https://colab.research.google.com/assets/colab-badge.svg\" alt=\"Open In Colab\"/></a>"
      ]
    },
    {
      "cell_type": "code",
      "execution_count": 2,
      "metadata": {
        "colab": {
          "base_uri": "https://localhost:8080/"
        },
        "id": "ZNNEn2yx0SZQ",
        "outputId": "653de46b-f041-4b56-ab65-33cb98a3ba8b"
      },
      "outputs": [
        {
          "output_type": "stream",
          "name": "stdout",
          "text": [
            "[3 4 2 4 2 0 7 9 4 2 0 1 2 6 5 4 1 4 0 0 6 3 8 2 5]\n"
          ]
        },
        {
          "output_type": "execute_result",
          "data": {
            "text/plain": [
              "array([-2,  2,  1])"
            ]
          },
          "metadata": {},
          "execution_count": 2
        }
      ],
      "source": [
        "import numpy as np\n",
        "a = np.random.randint(0,10,(5,5))\n",
        "a.max() # max in all elem in matrix\n",
        "a.min()\n",
        "a.max(axis=0) # axis=0 is for each col\n",
        "a.max(axis=1) # axis=1 is for each row\n",
        "print(a.flatten()) # flatten matrix\n",
        "a.argmax() # flatten matrix first and return max value's index \n",
        "a.argmin()\n",
        "a.argmax(axis=0) # max value's index in each column\n",
        "a.argmax(axis=1) # max value's index in each row\n",
        "a.mean() # mean from all elem matrix\n",
        "a.sum() # sum of all elem in matrix\n",
        "a.mean(axis=0) # mean in each column\n",
        "a.mean(axis=1) # mean in each row\n",
        "a.std() # standard deviation = sqrt(variance)\n",
        "a.std(axis=0) # standard deviation in each col\n",
        "a.var() # variance \n",
        "a.var(axis=0) # variance in each col \n",
        "a.cumsum() # array of cumulative sum \n",
        "# e.g.\n",
        "# a.cumsum() -> array([1,(1+2),(1+2+3),10,15,21])\n",
        " \n",
        "a.cumprod() # array of cumulative product\n",
        "# e.g.\n",
        "# a.cumprod() -> array([1,(1*2),(1*2*3),10,15,21])\n",
        "np.sort(a) # sort matrix row by row\n",
        "np.argsort(a) # return index matrix after sorting row by row\n",
        "A = np.array([1,2,3])\n",
        "B = np.array([4,5,6])\n",
        "np.average(A, weights=B) # B is matrix\n",
        "# A=[1,2,3]; B=[4,5,6]\n",
        "# np.average(A, weight=B) => 1*(4/(4+5+6)) + 2*(5/(4+5+6)) + 3*(6/(4+5+6))\n",
        "mult = A*B\n",
        "np.average(A) # =np.mean(A)\n",
        "a=np.array([[1,2],[3,4]])\n",
        "b=np.array([[11,12],[13,14]])\n",
        "np.vdot(a,b) # e.g.\n",
        "# np.vdot(a, b) # 1*11 + 2*12 + 3*13 + 4*14\n",
        "a=np.array([1,2,3,6,7])\n",
        "np.median(a)\n",
        "# median value for 1,2,3,6,7 -> median=3\n",
        "# median value for 1,2,6,7 -> (2+6)/2 = 4.0\n",
        "a=np.array([1,0,0,2,3])\n",
        "a.nonzero() # a=[1,0,0,2,3]; a.nonzero()=[0, 3, 4] return nonzero elem index\n",
        "np.inner(A,B) # = A*B.T\n",
        "np.dot(A,B) # = A*B\n",
        "np.outer(A,B) # = A.T*B\n",
        "A=np.array([[1,2],[3,4]])\n",
        "np.transpose(A)\n",
        "A.trace() # sum of all elements in quare-matrix A's diagonal\n",
        "A=np.array([3,1,3,4])\n",
        "np.diff(A) # if A=[3,1,3,4], then np.diff(A) = [(1-3),(3-1),(4-1)]\n"
      ]
    }
  ]
}